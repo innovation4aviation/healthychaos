{
 "cells": [
  {
   "cell_type": "code",
   "execution_count": 158,
   "metadata": {},
   "outputs": [],
   "source": [
    "### this verison uses a dataframe for the data\n",
    "### the original data is read in through a csv file\n",
    "\n",
    "### this book will try to map all the avaition innovations\n",
    "### there are 4 dimentions:\n",
    "### x-axis : how much something is related to avition (i.e. is the actor in aviation)\n",
    "### y-axis : is the innovaiton something that helps with the SDGs (i.e. how directly)\n",
    "### z-axis : how realistic is it\n",
    "### colour : sector : LEG, ORG, PEL, OPS, AIG, ANS, AGA, GEN, STR, UAM, UAS\n",
    "\n",
    "### at the center are all the foundational things\n",
    "\n",
    "import pandas as pd\n",
    "import plotly.graph_objects as go\n",
    "\n",
    "df = pd.read_csv(\"raw3dmapdata.csv\")\n",
    "dfline = pd.read_csv(\"Lines.csv\")\n",
    "\n",
    "### create some colours based on the 4th coloumn (Sector) in df\n",
    "\n",
    "Flavours = df.drop_duplicates(subset ='Sector')"
   ]
  },
  {
   "cell_type": "code",
   "execution_count": 159,
   "metadata": {},
   "outputs": [],
   "source": [
    "def getcolour(flavor) :\n",
    "    color =Flavours[Flavours['Sector']==flavor].index.values[0]\n",
    "    return color"
   ]
  },
  {
   "cell_type": "code",
   "execution_count": 160,
   "metadata": {},
   "outputs": [],
   "source": [
    "### populate the x,y,z, and colour arrays for the plotter\n",
    "\n",
    "x=df['Aviation']\n",
    "    \n",
    "y=df['SDG']\n",
    "    \n",
    "z=df['Realisim']\n",
    "\n",
    "labels=df['name']\n",
    "\n",
    "flavour=df['Sector']\n",
    "\n",
    "group=[]\n",
    "for element in flavour:\n",
    "    group.append(getcolour(element))"
   ]
  },
  {
   "cell_type": "code",
   "execution_count": 168,
   "metadata": {},
   "outputs": [],
   "source": [
    "### generate the trace of teh nodes\n",
    "\n",
    "trace1 = go.Scatter3d(x=x, \n",
    "                      y=y, \n",
    "                      z=z,\n",
    "                                            \n",
    "                      text=labels,\n",
    "                      \n",
    "                      mode='text+markers',\n",
    "                      \n",
    "                      hoverinfo='text+x+y+z',\n",
    "                      textposition=\"top center\",\n",
    "                      name=\"Innovation Points\",\n",
    "                      marker=dict(symbol='circle',\n",
    "                             color=group,\n",
    "                             colorscale='Viridis',\n",
    "                             size=5)\n",
    "                     )"
   ]
  },
  {
   "cell_type": "code",
   "execution_count": 169,
   "metadata": {},
   "outputs": [],
   "source": [
    "def getCords(Start) :\n",
    "    itemfound = df[df['name']==Start]\n",
    "    return itemfound['Aviation'].iloc[0], itemfound['SDG'].iloc[0], itemfound['Realisim'].iloc[0]\n",
    "    "
   ]
  },
  {
   "cell_type": "code",
   "execution_count": 170,
   "metadata": {},
   "outputs": [],
   "source": [
    "### create a 2nd trace for the connectors\n",
    "\n",
    "xl = []\n",
    "yl = []\n",
    "zl = []\n",
    "\n",
    "for index, item in dfline.iterrows() :\n",
    "    xs,ys,zs = getCords(item['from'])\n",
    "    xe, ye,ze = getCords(item['to'])\n",
    "    xl+=[xs,xe, None]\n",
    "    yl+=[ys,ye, None]\n",
    "    zl+=[zs,ze, None]\n",
    "    \n",
    "trace2=go.Scatter3d(x=xl,\n",
    "               y=yl,\n",
    "               z=zl,\n",
    "               mode='lines',\n",
    "               name=\"connectors\",\n",
    "               line=dict(color='rgb(125,125,125)', width=1),\n",
    "               hoverinfo='none'\n",
    "               )\n",
    "    "
   ]
  },
  {
   "cell_type": "code",
   "execution_count": 171,
   "metadata": {},
   "outputs": [],
   "source": [
    "### layouts\n",
    "\n",
    "x_axis=dict(showbackground=False,\n",
    "          showline=True,\n",
    "          zeroline=True,\n",
    "          showgrid=True,\n",
    "          showticklabels=True,\n",
    "          title='Percent Aviation',\n",
    "          gridcolor=\"rgb(255, 105, 255)\"\n",
    "          )\n",
    "\n",
    "y_axis=dict(showbackground=False,\n",
    "          showline=True,\n",
    "          zeroline=True,\n",
    "          showgrid=True,\n",
    "          showticklabels=True,\n",
    "          title='Percent SDG',\n",
    "          gridcolor=\"rgb(255, 105, 255)\"\n",
    "          )\n",
    "\n",
    "z_axis=dict(showbackground=False,\n",
    "          showline=True,\n",
    "          zeroline=True,\n",
    "          showgrid=True,\n",
    "          showticklabels=True,\n",
    "          title='Percent Implemented',\n",
    "          gridcolor=\"rgb(255, 105, 255)\"\n",
    "          )\n",
    "\n",
    "layout = go.Layout(title = 'Aviation Innovaiton Eco System',\n",
    "                   scene=dict(\n",
    "                       xaxis=dict(x_axis),\n",
    "                       yaxis=dict(y_axis),\n",
    "                       zaxis=dict(z_axis)\n",
    "                   )\n",
    "                  )"
   ]
  },
  {
   "cell_type": "code",
   "execution_count": 172,
   "metadata": {},
   "outputs": [
    {
     "data": {
      "application/vnd.plotly.v1+json": {
       "config": {
        "plotlyServerURL": "https://plot.ly"
       },
       "data": [
        {
         "hoverinfo": "text+x+y+z",
         "marker": {
          "color": [
           0,
           0,
           2,
           3,
           0,
           5,
           0,
           0,
           0,
           9,
           0,
           0,
           0,
           13,
           0,
           0,
           0,
           17,
           0,
           3,
           13,
           21,
           21,
           17
          ],
          "colorscale": [
           [
            0,
            "#440154"
           ],
           [
            0.1111111111111111,
            "#482878"
           ],
           [
            0.2222222222222222,
            "#3e4989"
           ],
           [
            0.3333333333333333,
            "#31688e"
           ],
           [
            0.4444444444444444,
            "#26828e"
           ],
           [
            0.5555555555555556,
            "#1f9e89"
           ],
           [
            0.6666666666666666,
            "#35b779"
           ],
           [
            0.7777777777777778,
            "#6ece58"
           ],
           [
            0.8888888888888888,
            "#b5de2b"
           ],
           [
            1,
            "#fde725"
           ]
          ],
          "size": 5,
          "symbol": "circle"
         },
         "mode": "text+markers",
         "name": "Innovation Points",
         "text": [
          "UN Innovation Network",
          "CRIAQ",
          "LOON",
          "Ambular 2.0",
          "ICAO Innovation Fair",
          "ZipLine",
          "AI For Good Summit",
          "AI Code of Conduct",
          "Thales AI Challenge",
          "Assmebly WP AI App",
          "Tesla",
          "Stratobus",
          "Uber Elevate",
          "YOLO",
          "Digital Urban",
          "EASA Innovation Hub",
          "AI Roadmap",
          "Fly AI Report",
          "Thales",
          "Lilium",
          "NLP",
          "ICAO AI Research",
          "ICAO UAM Study",
          "EUROCONTROL"
         ],
         "textposition": "top center",
         "type": "scatter3d",
         "x": [
          10,
          50,
          100,
          100,
          100,
          100,
          20,
          80,
          100,
          80,
          10,
          100,
          100,
          15,
          25,
          100,
          100,
          100,
          80,
          100,
          10,
          75,
          100,
          100
         ],
         "y": [
          100,
          50,
          30,
          20,
          70,
          50,
          100,
          25,
          35,
          10,
          10,
          20,
          30,
          50,
          70,
          45,
          45,
          15,
          55,
          10,
          10,
          50,
          35,
          10
         ],
         "z": [
          100,
          100,
          100,
          20,
          100,
          100,
          100,
          50,
          100,
          80,
          100,
          60,
          50,
          60,
          65,
          100,
          15,
          15,
          80,
          50,
          70,
          25,
          10,
          100
         ]
        },
        {
         "hoverinfo": "none",
         "line": {
          "color": "rgb(125,125,125)",
          "width": 1
         },
         "mode": "lines",
         "name": "connectors",
         "type": "scatter3d",
         "x": [
          100,
          50,
          null,
          100,
          100,
          null,
          100,
          100,
          null,
          100,
          80,
          null,
          100,
          100,
          null,
          100,
          100,
          null,
          80,
          100,
          null,
          80,
          100,
          null,
          100,
          100,
          null,
          75,
          20,
          null,
          75,
          80,
          null,
          75,
          80,
          null,
          75,
          100,
          null,
          75,
          100,
          null,
          75,
          100,
          null,
          75,
          10,
          null,
          75,
          15,
          null,
          75,
          25,
          null,
          100,
          100,
          null,
          100,
          100,
          null,
          100,
          25,
          null,
          100,
          100,
          null,
          100,
          100,
          null,
          100,
          100,
          null,
          100,
          100,
          null,
          100,
          80,
          null,
          75,
          10,
          null
         ],
         "y": [
          70,
          50,
          null,
          70,
          30,
          null,
          70,
          50,
          null,
          70,
          10,
          null,
          70,
          20,
          null,
          70,
          30,
          null,
          55,
          20,
          null,
          55,
          35,
          null,
          70,
          10,
          null,
          50,
          100,
          null,
          50,
          25,
          null,
          50,
          10,
          null,
          50,
          35,
          null,
          50,
          45,
          null,
          50,
          10,
          null,
          50,
          10,
          null,
          50,
          50,
          null,
          50,
          70,
          null,
          35,
          20,
          null,
          35,
          30,
          null,
          35,
          70,
          null,
          35,
          10,
          null,
          45,
          45,
          null,
          10,
          15,
          null,
          45,
          10,
          null,
          45,
          55,
          null,
          50,
          100,
          null
         ],
         "z": [
          100,
          100,
          null,
          100,
          100,
          null,
          100,
          100,
          null,
          100,
          80,
          null,
          100,
          60,
          null,
          100,
          50,
          null,
          80,
          60,
          null,
          80,
          100,
          null,
          100,
          50,
          null,
          25,
          100,
          null,
          25,
          50,
          null,
          25,
          80,
          null,
          25,
          100,
          null,
          25,
          100,
          null,
          25,
          100,
          null,
          25,
          70,
          null,
          25,
          60,
          null,
          25,
          65,
          null,
          10,
          20,
          null,
          10,
          50,
          null,
          10,
          65,
          null,
          10,
          50,
          null,
          100,
          15,
          null,
          100,
          15,
          null,
          100,
          50,
          null,
          100,
          80,
          null,
          25,
          100,
          null
         ]
        }
       ],
       "layout": {
        "scene": {
         "xaxis": {
          "gridcolor": "rgb(255, 105, 255)",
          "showbackground": false,
          "showgrid": true,
          "showline": true,
          "showticklabels": true,
          "title": {
           "text": "Percent Aviation"
          },
          "zeroline": true
         },
         "yaxis": {
          "gridcolor": "rgb(255, 105, 255)",
          "showbackground": false,
          "showgrid": true,
          "showline": true,
          "showticklabels": true,
          "title": {
           "text": "Percent SDG"
          },
          "zeroline": true
         },
         "zaxis": {
          "gridcolor": "rgb(255, 105, 255)",
          "showbackground": false,
          "showgrid": true,
          "showline": true,
          "showticklabels": true,
          "title": {
           "text": "Percent Implemented"
          },
          "zeroline": true
         }
        },
        "template": {
         "data": {
          "bar": [
           {
            "error_x": {
             "color": "#2a3f5f"
            },
            "error_y": {
             "color": "#2a3f5f"
            },
            "marker": {
             "line": {
              "color": "#E5ECF6",
              "width": 0.5
             }
            },
            "type": "bar"
           }
          ],
          "barpolar": [
           {
            "marker": {
             "line": {
              "color": "#E5ECF6",
              "width": 0.5
             }
            },
            "type": "barpolar"
           }
          ],
          "carpet": [
           {
            "aaxis": {
             "endlinecolor": "#2a3f5f",
             "gridcolor": "white",
             "linecolor": "white",
             "minorgridcolor": "white",
             "startlinecolor": "#2a3f5f"
            },
            "baxis": {
             "endlinecolor": "#2a3f5f",
             "gridcolor": "white",
             "linecolor": "white",
             "minorgridcolor": "white",
             "startlinecolor": "#2a3f5f"
            },
            "type": "carpet"
           }
          ],
          "choropleth": [
           {
            "colorbar": {
             "outlinewidth": 0,
             "ticks": ""
            },
            "type": "choropleth"
           }
          ],
          "contour": [
           {
            "colorbar": {
             "outlinewidth": 0,
             "ticks": ""
            },
            "colorscale": [
             [
              0,
              "#0d0887"
             ],
             [
              0.1111111111111111,
              "#46039f"
             ],
             [
              0.2222222222222222,
              "#7201a8"
             ],
             [
              0.3333333333333333,
              "#9c179e"
             ],
             [
              0.4444444444444444,
              "#bd3786"
             ],
             [
              0.5555555555555556,
              "#d8576b"
             ],
             [
              0.6666666666666666,
              "#ed7953"
             ],
             [
              0.7777777777777778,
              "#fb9f3a"
             ],
             [
              0.8888888888888888,
              "#fdca26"
             ],
             [
              1,
              "#f0f921"
             ]
            ],
            "type": "contour"
           }
          ],
          "contourcarpet": [
           {
            "colorbar": {
             "outlinewidth": 0,
             "ticks": ""
            },
            "type": "contourcarpet"
           }
          ],
          "heatmap": [
           {
            "colorbar": {
             "outlinewidth": 0,
             "ticks": ""
            },
            "colorscale": [
             [
              0,
              "#0d0887"
             ],
             [
              0.1111111111111111,
              "#46039f"
             ],
             [
              0.2222222222222222,
              "#7201a8"
             ],
             [
              0.3333333333333333,
              "#9c179e"
             ],
             [
              0.4444444444444444,
              "#bd3786"
             ],
             [
              0.5555555555555556,
              "#d8576b"
             ],
             [
              0.6666666666666666,
              "#ed7953"
             ],
             [
              0.7777777777777778,
              "#fb9f3a"
             ],
             [
              0.8888888888888888,
              "#fdca26"
             ],
             [
              1,
              "#f0f921"
             ]
            ],
            "type": "heatmap"
           }
          ],
          "heatmapgl": [
           {
            "colorbar": {
             "outlinewidth": 0,
             "ticks": ""
            },
            "colorscale": [
             [
              0,
              "#0d0887"
             ],
             [
              0.1111111111111111,
              "#46039f"
             ],
             [
              0.2222222222222222,
              "#7201a8"
             ],
             [
              0.3333333333333333,
              "#9c179e"
             ],
             [
              0.4444444444444444,
              "#bd3786"
             ],
             [
              0.5555555555555556,
              "#d8576b"
             ],
             [
              0.6666666666666666,
              "#ed7953"
             ],
             [
              0.7777777777777778,
              "#fb9f3a"
             ],
             [
              0.8888888888888888,
              "#fdca26"
             ],
             [
              1,
              "#f0f921"
             ]
            ],
            "type": "heatmapgl"
           }
          ],
          "histogram": [
           {
            "marker": {
             "colorbar": {
              "outlinewidth": 0,
              "ticks": ""
             }
            },
            "type": "histogram"
           }
          ],
          "histogram2d": [
           {
            "colorbar": {
             "outlinewidth": 0,
             "ticks": ""
            },
            "colorscale": [
             [
              0,
              "#0d0887"
             ],
             [
              0.1111111111111111,
              "#46039f"
             ],
             [
              0.2222222222222222,
              "#7201a8"
             ],
             [
              0.3333333333333333,
              "#9c179e"
             ],
             [
              0.4444444444444444,
              "#bd3786"
             ],
             [
              0.5555555555555556,
              "#d8576b"
             ],
             [
              0.6666666666666666,
              "#ed7953"
             ],
             [
              0.7777777777777778,
              "#fb9f3a"
             ],
             [
              0.8888888888888888,
              "#fdca26"
             ],
             [
              1,
              "#f0f921"
             ]
            ],
            "type": "histogram2d"
           }
          ],
          "histogram2dcontour": [
           {
            "colorbar": {
             "outlinewidth": 0,
             "ticks": ""
            },
            "colorscale": [
             [
              0,
              "#0d0887"
             ],
             [
              0.1111111111111111,
              "#46039f"
             ],
             [
              0.2222222222222222,
              "#7201a8"
             ],
             [
              0.3333333333333333,
              "#9c179e"
             ],
             [
              0.4444444444444444,
              "#bd3786"
             ],
             [
              0.5555555555555556,
              "#d8576b"
             ],
             [
              0.6666666666666666,
              "#ed7953"
             ],
             [
              0.7777777777777778,
              "#fb9f3a"
             ],
             [
              0.8888888888888888,
              "#fdca26"
             ],
             [
              1,
              "#f0f921"
             ]
            ],
            "type": "histogram2dcontour"
           }
          ],
          "mesh3d": [
           {
            "colorbar": {
             "outlinewidth": 0,
             "ticks": ""
            },
            "type": "mesh3d"
           }
          ],
          "parcoords": [
           {
            "line": {
             "colorbar": {
              "outlinewidth": 0,
              "ticks": ""
             }
            },
            "type": "parcoords"
           }
          ],
          "pie": [
           {
            "automargin": true,
            "type": "pie"
           }
          ],
          "scatter": [
           {
            "marker": {
             "colorbar": {
              "outlinewidth": 0,
              "ticks": ""
             }
            },
            "type": "scatter"
           }
          ],
          "scatter3d": [
           {
            "line": {
             "colorbar": {
              "outlinewidth": 0,
              "ticks": ""
             }
            },
            "marker": {
             "colorbar": {
              "outlinewidth": 0,
              "ticks": ""
             }
            },
            "type": "scatter3d"
           }
          ],
          "scattercarpet": [
           {
            "marker": {
             "colorbar": {
              "outlinewidth": 0,
              "ticks": ""
             }
            },
            "type": "scattercarpet"
           }
          ],
          "scattergeo": [
           {
            "marker": {
             "colorbar": {
              "outlinewidth": 0,
              "ticks": ""
             }
            },
            "type": "scattergeo"
           }
          ],
          "scattergl": [
           {
            "marker": {
             "colorbar": {
              "outlinewidth": 0,
              "ticks": ""
             }
            },
            "type": "scattergl"
           }
          ],
          "scattermapbox": [
           {
            "marker": {
             "colorbar": {
              "outlinewidth": 0,
              "ticks": ""
             }
            },
            "type": "scattermapbox"
           }
          ],
          "scatterpolar": [
           {
            "marker": {
             "colorbar": {
              "outlinewidth": 0,
              "ticks": ""
             }
            },
            "type": "scatterpolar"
           }
          ],
          "scatterpolargl": [
           {
            "marker": {
             "colorbar": {
              "outlinewidth": 0,
              "ticks": ""
             }
            },
            "type": "scatterpolargl"
           }
          ],
          "scatterternary": [
           {
            "marker": {
             "colorbar": {
              "outlinewidth": 0,
              "ticks": ""
             }
            },
            "type": "scatterternary"
           }
          ],
          "surface": [
           {
            "colorbar": {
             "outlinewidth": 0,
             "ticks": ""
            },
            "colorscale": [
             [
              0,
              "#0d0887"
             ],
             [
              0.1111111111111111,
              "#46039f"
             ],
             [
              0.2222222222222222,
              "#7201a8"
             ],
             [
              0.3333333333333333,
              "#9c179e"
             ],
             [
              0.4444444444444444,
              "#bd3786"
             ],
             [
              0.5555555555555556,
              "#d8576b"
             ],
             [
              0.6666666666666666,
              "#ed7953"
             ],
             [
              0.7777777777777778,
              "#fb9f3a"
             ],
             [
              0.8888888888888888,
              "#fdca26"
             ],
             [
              1,
              "#f0f921"
             ]
            ],
            "type": "surface"
           }
          ],
          "table": [
           {
            "cells": {
             "fill": {
              "color": "#EBF0F8"
             },
             "line": {
              "color": "white"
             }
            },
            "header": {
             "fill": {
              "color": "#C8D4E3"
             },
             "line": {
              "color": "white"
             }
            },
            "type": "table"
           }
          ]
         },
         "layout": {
          "annotationdefaults": {
           "arrowcolor": "#2a3f5f",
           "arrowhead": 0,
           "arrowwidth": 1
          },
          "coloraxis": {
           "colorbar": {
            "outlinewidth": 0,
            "ticks": ""
           }
          },
          "colorscale": {
           "diverging": [
            [
             0,
             "#8e0152"
            ],
            [
             0.1,
             "#c51b7d"
            ],
            [
             0.2,
             "#de77ae"
            ],
            [
             0.3,
             "#f1b6da"
            ],
            [
             0.4,
             "#fde0ef"
            ],
            [
             0.5,
             "#f7f7f7"
            ],
            [
             0.6,
             "#e6f5d0"
            ],
            [
             0.7,
             "#b8e186"
            ],
            [
             0.8,
             "#7fbc41"
            ],
            [
             0.9,
             "#4d9221"
            ],
            [
             1,
             "#276419"
            ]
           ],
           "sequential": [
            [
             0,
             "#0d0887"
            ],
            [
             0.1111111111111111,
             "#46039f"
            ],
            [
             0.2222222222222222,
             "#7201a8"
            ],
            [
             0.3333333333333333,
             "#9c179e"
            ],
            [
             0.4444444444444444,
             "#bd3786"
            ],
            [
             0.5555555555555556,
             "#d8576b"
            ],
            [
             0.6666666666666666,
             "#ed7953"
            ],
            [
             0.7777777777777778,
             "#fb9f3a"
            ],
            [
             0.8888888888888888,
             "#fdca26"
            ],
            [
             1,
             "#f0f921"
            ]
           ],
           "sequentialminus": [
            [
             0,
             "#0d0887"
            ],
            [
             0.1111111111111111,
             "#46039f"
            ],
            [
             0.2222222222222222,
             "#7201a8"
            ],
            [
             0.3333333333333333,
             "#9c179e"
            ],
            [
             0.4444444444444444,
             "#bd3786"
            ],
            [
             0.5555555555555556,
             "#d8576b"
            ],
            [
             0.6666666666666666,
             "#ed7953"
            ],
            [
             0.7777777777777778,
             "#fb9f3a"
            ],
            [
             0.8888888888888888,
             "#fdca26"
            ],
            [
             1,
             "#f0f921"
            ]
           ]
          },
          "colorway": [
           "#636efa",
           "#EF553B",
           "#00cc96",
           "#ab63fa",
           "#FFA15A",
           "#19d3f3",
           "#FF6692",
           "#B6E880",
           "#FF97FF",
           "#FECB52"
          ],
          "font": {
           "color": "#2a3f5f"
          },
          "geo": {
           "bgcolor": "white",
           "lakecolor": "white",
           "landcolor": "#E5ECF6",
           "showlakes": true,
           "showland": true,
           "subunitcolor": "white"
          },
          "hoverlabel": {
           "align": "left"
          },
          "hovermode": "closest",
          "mapbox": {
           "style": "light"
          },
          "paper_bgcolor": "white",
          "plot_bgcolor": "#E5ECF6",
          "polar": {
           "angularaxis": {
            "gridcolor": "white",
            "linecolor": "white",
            "ticks": ""
           },
           "bgcolor": "#E5ECF6",
           "radialaxis": {
            "gridcolor": "white",
            "linecolor": "white",
            "ticks": ""
           }
          },
          "scene": {
           "xaxis": {
            "backgroundcolor": "#E5ECF6",
            "gridcolor": "white",
            "gridwidth": 2,
            "linecolor": "white",
            "showbackground": true,
            "ticks": "",
            "zerolinecolor": "white"
           },
           "yaxis": {
            "backgroundcolor": "#E5ECF6",
            "gridcolor": "white",
            "gridwidth": 2,
            "linecolor": "white",
            "showbackground": true,
            "ticks": "",
            "zerolinecolor": "white"
           },
           "zaxis": {
            "backgroundcolor": "#E5ECF6",
            "gridcolor": "white",
            "gridwidth": 2,
            "linecolor": "white",
            "showbackground": true,
            "ticks": "",
            "zerolinecolor": "white"
           }
          },
          "shapedefaults": {
           "line": {
            "color": "#2a3f5f"
           }
          },
          "ternary": {
           "aaxis": {
            "gridcolor": "white",
            "linecolor": "white",
            "ticks": ""
           },
           "baxis": {
            "gridcolor": "white",
            "linecolor": "white",
            "ticks": ""
           },
           "bgcolor": "#E5ECF6",
           "caxis": {
            "gridcolor": "white",
            "linecolor": "white",
            "ticks": ""
           }
          },
          "title": {
           "x": 0.05
          },
          "xaxis": {
           "automargin": true,
           "gridcolor": "white",
           "linecolor": "white",
           "ticks": "",
           "title": {
            "standoff": 15
           },
           "zerolinecolor": "white",
           "zerolinewidth": 2
          },
          "yaxis": {
           "automargin": true,
           "gridcolor": "white",
           "linecolor": "white",
           "ticks": "",
           "title": {
            "standoff": 15
           },
           "zerolinecolor": "white",
           "zerolinewidth": 2
          }
         }
        },
        "title": {
         "text": "Aviation Innovaiton Eco System"
        }
       }
      },
      "text/html": [
       "<div>\n",
       "        \n",
       "        \n",
       "            <div id=\"6411673c-5dbe-4148-80fd-3899e4027595\" class=\"plotly-graph-div\" style=\"height:525px; width:100%;\"></div>\n",
       "            <script type=\"text/javascript\">\n",
       "                require([\"plotly\"], function(Plotly) {\n",
       "                    window.PLOTLYENV=window.PLOTLYENV || {};\n",
       "                    \n",
       "                if (document.getElementById(\"6411673c-5dbe-4148-80fd-3899e4027595\")) {\n",
       "                    Plotly.newPlot(\n",
       "                        '6411673c-5dbe-4148-80fd-3899e4027595',\n",
       "                        [{\"hoverinfo\": \"text+x+y+z\", \"marker\": {\"color\": [0, 0, 2, 3, 0, 5, 0, 0, 0, 9, 0, 0, 0, 13, 0, 0, 0, 17, 0, 3, 13, 21, 21, 17], \"colorscale\": [[0.0, \"#440154\"], [0.1111111111111111, \"#482878\"], [0.2222222222222222, \"#3e4989\"], [0.3333333333333333, \"#31688e\"], [0.4444444444444444, \"#26828e\"], [0.5555555555555556, \"#1f9e89\"], [0.6666666666666666, \"#35b779\"], [0.7777777777777778, \"#6ece58\"], [0.8888888888888888, \"#b5de2b\"], [1.0, \"#fde725\"]], \"size\": 5, \"symbol\": \"circle\"}, \"mode\": \"text+markers\", \"name\": \"Innovation Points\", \"text\": [\"UN Innovation Network\", \"CRIAQ\", \"LOON\", \"Ambular 2.0\", \"ICAO Innovation Fair\", \"ZipLine\", \"AI For Good Summit\", \"AI Code of Conduct\", \"Thales AI Challenge\", \"Assmebly WP AI App\", \"Tesla\", \"Stratobus\", \"Uber Elevate\", \"YOLO\", \"Digital Urban\", \"EASA Innovation Hub\", \"AI Roadmap\", \"Fly AI Report\", \"Thales\", \"Lilium\", \"NLP\", \"ICAO AI Research\", \"ICAO UAM Study\", \"EUROCONTROL\"], \"textposition\": \"top center\", \"type\": \"scatter3d\", \"x\": [10, 50, 100, 100, 100, 100, 20, 80, 100, 80, 10, 100, 100, 15, 25, 100, 100, 100, 80, 100, 10, 75, 100, 100], \"y\": [100, 50, 30, 20, 70, 50, 100, 25, 35, 10, 10, 20, 30, 50, 70, 45, 45, 15, 55, 10, 10, 50, 35, 10], \"z\": [100, 100, 100, 20, 100, 100, 100, 50, 100, 80, 100, 60, 50, 60, 65, 100, 15, 15, 80, 50, 70, 25, 10, 100]}, {\"hoverinfo\": \"none\", \"line\": {\"color\": \"rgb(125,125,125)\", \"width\": 1}, \"mode\": \"lines\", \"name\": \"connectors\", \"type\": \"scatter3d\", \"x\": [100, 50, null, 100, 100, null, 100, 100, null, 100, 80, null, 100, 100, null, 100, 100, null, 80, 100, null, 80, 100, null, 100, 100, null, 75, 20, null, 75, 80, null, 75, 80, null, 75, 100, null, 75, 100, null, 75, 100, null, 75, 10, null, 75, 15, null, 75, 25, null, 100, 100, null, 100, 100, null, 100, 25, null, 100, 100, null, 100, 100, null, 100, 100, null, 100, 100, null, 100, 80, null, 75, 10, null], \"y\": [70, 50, null, 70, 30, null, 70, 50, null, 70, 10, null, 70, 20, null, 70, 30, null, 55, 20, null, 55, 35, null, 70, 10, null, 50, 100, null, 50, 25, null, 50, 10, null, 50, 35, null, 50, 45, null, 50, 10, null, 50, 10, null, 50, 50, null, 50, 70, null, 35, 20, null, 35, 30, null, 35, 70, null, 35, 10, null, 45, 45, null, 10, 15, null, 45, 10, null, 45, 55, null, 50, 100, null], \"z\": [100, 100, null, 100, 100, null, 100, 100, null, 100, 80, null, 100, 60, null, 100, 50, null, 80, 60, null, 80, 100, null, 100, 50, null, 25, 100, null, 25, 50, null, 25, 80, null, 25, 100, null, 25, 100, null, 25, 100, null, 25, 70, null, 25, 60, null, 25, 65, null, 10, 20, null, 10, 50, null, 10, 65, null, 10, 50, null, 100, 15, null, 100, 15, null, 100, 50, null, 100, 80, null, 25, 100, null]}],\n",
       "                        {\"scene\": {\"xaxis\": {\"gridcolor\": \"rgb(255, 105, 255)\", \"showbackground\": false, \"showgrid\": true, \"showline\": true, \"showticklabels\": true, \"title\": {\"text\": \"Percent Aviation\"}, \"zeroline\": true}, \"yaxis\": {\"gridcolor\": \"rgb(255, 105, 255)\", \"showbackground\": false, \"showgrid\": true, \"showline\": true, \"showticklabels\": true, \"title\": {\"text\": \"Percent SDG\"}, \"zeroline\": true}, \"zaxis\": {\"gridcolor\": \"rgb(255, 105, 255)\", \"showbackground\": false, \"showgrid\": true, \"showline\": true, \"showticklabels\": true, \"title\": {\"text\": \"Percent Implemented\"}, \"zeroline\": true}}, \"template\": {\"data\": {\"bar\": [{\"error_x\": {\"color\": \"#2a3f5f\"}, \"error_y\": {\"color\": \"#2a3f5f\"}, \"marker\": {\"line\": {\"color\": \"#E5ECF6\", \"width\": 0.5}}, \"type\": \"bar\"}], \"barpolar\": [{\"marker\": {\"line\": {\"color\": \"#E5ECF6\", \"width\": 0.5}}, \"type\": \"barpolar\"}], \"carpet\": [{\"aaxis\": {\"endlinecolor\": \"#2a3f5f\", \"gridcolor\": \"white\", \"linecolor\": \"white\", \"minorgridcolor\": \"white\", \"startlinecolor\": \"#2a3f5f\"}, \"baxis\": {\"endlinecolor\": \"#2a3f5f\", \"gridcolor\": \"white\", \"linecolor\": \"white\", \"minorgridcolor\": \"white\", \"startlinecolor\": \"#2a3f5f\"}, \"type\": \"carpet\"}], \"choropleth\": [{\"colorbar\": {\"outlinewidth\": 0, \"ticks\": \"\"}, \"type\": \"choropleth\"}], \"contour\": [{\"colorbar\": {\"outlinewidth\": 0, \"ticks\": \"\"}, \"colorscale\": [[0.0, \"#0d0887\"], [0.1111111111111111, \"#46039f\"], [0.2222222222222222, \"#7201a8\"], [0.3333333333333333, \"#9c179e\"], [0.4444444444444444, \"#bd3786\"], [0.5555555555555556, \"#d8576b\"], [0.6666666666666666, \"#ed7953\"], [0.7777777777777778, \"#fb9f3a\"], [0.8888888888888888, \"#fdca26\"], [1.0, \"#f0f921\"]], \"type\": \"contour\"}], \"contourcarpet\": [{\"colorbar\": {\"outlinewidth\": 0, \"ticks\": \"\"}, \"type\": \"contourcarpet\"}], \"heatmap\": [{\"colorbar\": {\"outlinewidth\": 0, \"ticks\": \"\"}, \"colorscale\": [[0.0, \"#0d0887\"], [0.1111111111111111, \"#46039f\"], [0.2222222222222222, \"#7201a8\"], [0.3333333333333333, \"#9c179e\"], [0.4444444444444444, \"#bd3786\"], [0.5555555555555556, \"#d8576b\"], [0.6666666666666666, \"#ed7953\"], [0.7777777777777778, \"#fb9f3a\"], [0.8888888888888888, \"#fdca26\"], [1.0, \"#f0f921\"]], \"type\": \"heatmap\"}], \"heatmapgl\": [{\"colorbar\": {\"outlinewidth\": 0, \"ticks\": \"\"}, \"colorscale\": [[0.0, \"#0d0887\"], [0.1111111111111111, \"#46039f\"], [0.2222222222222222, \"#7201a8\"], [0.3333333333333333, \"#9c179e\"], [0.4444444444444444, \"#bd3786\"], [0.5555555555555556, \"#d8576b\"], [0.6666666666666666, \"#ed7953\"], [0.7777777777777778, \"#fb9f3a\"], [0.8888888888888888, \"#fdca26\"], [1.0, \"#f0f921\"]], \"type\": \"heatmapgl\"}], \"histogram\": [{\"marker\": {\"colorbar\": {\"outlinewidth\": 0, \"ticks\": \"\"}}, \"type\": \"histogram\"}], \"histogram2d\": [{\"colorbar\": {\"outlinewidth\": 0, \"ticks\": \"\"}, \"colorscale\": [[0.0, \"#0d0887\"], [0.1111111111111111, \"#46039f\"], [0.2222222222222222, \"#7201a8\"], [0.3333333333333333, \"#9c179e\"], [0.4444444444444444, \"#bd3786\"], [0.5555555555555556, \"#d8576b\"], [0.6666666666666666, \"#ed7953\"], [0.7777777777777778, \"#fb9f3a\"], [0.8888888888888888, \"#fdca26\"], [1.0, \"#f0f921\"]], \"type\": \"histogram2d\"}], \"histogram2dcontour\": [{\"colorbar\": {\"outlinewidth\": 0, \"ticks\": \"\"}, \"colorscale\": [[0.0, \"#0d0887\"], [0.1111111111111111, \"#46039f\"], [0.2222222222222222, \"#7201a8\"], [0.3333333333333333, \"#9c179e\"], [0.4444444444444444, \"#bd3786\"], [0.5555555555555556, \"#d8576b\"], [0.6666666666666666, \"#ed7953\"], [0.7777777777777778, \"#fb9f3a\"], [0.8888888888888888, \"#fdca26\"], [1.0, \"#f0f921\"]], \"type\": \"histogram2dcontour\"}], \"mesh3d\": [{\"colorbar\": {\"outlinewidth\": 0, \"ticks\": \"\"}, \"type\": \"mesh3d\"}], \"parcoords\": [{\"line\": {\"colorbar\": {\"outlinewidth\": 0, \"ticks\": \"\"}}, \"type\": \"parcoords\"}], \"pie\": [{\"automargin\": true, \"type\": \"pie\"}], \"scatter\": [{\"marker\": {\"colorbar\": {\"outlinewidth\": 0, \"ticks\": \"\"}}, \"type\": \"scatter\"}], \"scatter3d\": [{\"line\": {\"colorbar\": {\"outlinewidth\": 0, \"ticks\": \"\"}}, \"marker\": {\"colorbar\": {\"outlinewidth\": 0, \"ticks\": \"\"}}, \"type\": \"scatter3d\"}], \"scattercarpet\": [{\"marker\": {\"colorbar\": {\"outlinewidth\": 0, \"ticks\": \"\"}}, \"type\": \"scattercarpet\"}], \"scattergeo\": [{\"marker\": {\"colorbar\": {\"outlinewidth\": 0, \"ticks\": \"\"}}, \"type\": \"scattergeo\"}], \"scattergl\": [{\"marker\": {\"colorbar\": {\"outlinewidth\": 0, \"ticks\": \"\"}}, \"type\": \"scattergl\"}], \"scattermapbox\": [{\"marker\": {\"colorbar\": {\"outlinewidth\": 0, \"ticks\": \"\"}}, \"type\": \"scattermapbox\"}], \"scatterpolar\": [{\"marker\": {\"colorbar\": {\"outlinewidth\": 0, \"ticks\": \"\"}}, \"type\": \"scatterpolar\"}], \"scatterpolargl\": [{\"marker\": {\"colorbar\": {\"outlinewidth\": 0, \"ticks\": \"\"}}, \"type\": \"scatterpolargl\"}], \"scatterternary\": [{\"marker\": {\"colorbar\": {\"outlinewidth\": 0, \"ticks\": \"\"}}, \"type\": \"scatterternary\"}], \"surface\": [{\"colorbar\": {\"outlinewidth\": 0, \"ticks\": \"\"}, \"colorscale\": [[0.0, \"#0d0887\"], [0.1111111111111111, \"#46039f\"], [0.2222222222222222, \"#7201a8\"], [0.3333333333333333, \"#9c179e\"], [0.4444444444444444, \"#bd3786\"], [0.5555555555555556, \"#d8576b\"], [0.6666666666666666, \"#ed7953\"], [0.7777777777777778, \"#fb9f3a\"], [0.8888888888888888, \"#fdca26\"], [1.0, \"#f0f921\"]], \"type\": \"surface\"}], \"table\": [{\"cells\": {\"fill\": {\"color\": \"#EBF0F8\"}, \"line\": {\"color\": \"white\"}}, \"header\": {\"fill\": {\"color\": \"#C8D4E3\"}, \"line\": {\"color\": \"white\"}}, \"type\": \"table\"}]}, \"layout\": {\"annotationdefaults\": {\"arrowcolor\": \"#2a3f5f\", \"arrowhead\": 0, \"arrowwidth\": 1}, \"coloraxis\": {\"colorbar\": {\"outlinewidth\": 0, \"ticks\": \"\"}}, \"colorscale\": {\"diverging\": [[0, \"#8e0152\"], [0.1, \"#c51b7d\"], [0.2, \"#de77ae\"], [0.3, \"#f1b6da\"], [0.4, \"#fde0ef\"], [0.5, \"#f7f7f7\"], [0.6, \"#e6f5d0\"], [0.7, \"#b8e186\"], [0.8, \"#7fbc41\"], [0.9, \"#4d9221\"], [1, \"#276419\"]], \"sequential\": [[0.0, \"#0d0887\"], [0.1111111111111111, \"#46039f\"], [0.2222222222222222, \"#7201a8\"], [0.3333333333333333, \"#9c179e\"], [0.4444444444444444, \"#bd3786\"], [0.5555555555555556, \"#d8576b\"], [0.6666666666666666, \"#ed7953\"], [0.7777777777777778, \"#fb9f3a\"], [0.8888888888888888, \"#fdca26\"], [1.0, \"#f0f921\"]], \"sequentialminus\": [[0.0, \"#0d0887\"], [0.1111111111111111, \"#46039f\"], [0.2222222222222222, \"#7201a8\"], [0.3333333333333333, \"#9c179e\"], [0.4444444444444444, \"#bd3786\"], [0.5555555555555556, \"#d8576b\"], [0.6666666666666666, \"#ed7953\"], [0.7777777777777778, \"#fb9f3a\"], [0.8888888888888888, \"#fdca26\"], [1.0, \"#f0f921\"]]}, \"colorway\": [\"#636efa\", \"#EF553B\", \"#00cc96\", \"#ab63fa\", \"#FFA15A\", \"#19d3f3\", \"#FF6692\", \"#B6E880\", \"#FF97FF\", \"#FECB52\"], \"font\": {\"color\": \"#2a3f5f\"}, \"geo\": {\"bgcolor\": \"white\", \"lakecolor\": \"white\", \"landcolor\": \"#E5ECF6\", \"showlakes\": true, \"showland\": true, \"subunitcolor\": \"white\"}, \"hoverlabel\": {\"align\": \"left\"}, \"hovermode\": \"closest\", \"mapbox\": {\"style\": \"light\"}, \"paper_bgcolor\": \"white\", \"plot_bgcolor\": \"#E5ECF6\", \"polar\": {\"angularaxis\": {\"gridcolor\": \"white\", \"linecolor\": \"white\", \"ticks\": \"\"}, \"bgcolor\": \"#E5ECF6\", \"radialaxis\": {\"gridcolor\": \"white\", \"linecolor\": \"white\", \"ticks\": \"\"}}, \"scene\": {\"xaxis\": {\"backgroundcolor\": \"#E5ECF6\", \"gridcolor\": \"white\", \"gridwidth\": 2, \"linecolor\": \"white\", \"showbackground\": true, \"ticks\": \"\", \"zerolinecolor\": \"white\"}, \"yaxis\": {\"backgroundcolor\": \"#E5ECF6\", \"gridcolor\": \"white\", \"gridwidth\": 2, \"linecolor\": \"white\", \"showbackground\": true, \"ticks\": \"\", \"zerolinecolor\": \"white\"}, \"zaxis\": {\"backgroundcolor\": \"#E5ECF6\", \"gridcolor\": \"white\", \"gridwidth\": 2, \"linecolor\": \"white\", \"showbackground\": true, \"ticks\": \"\", \"zerolinecolor\": \"white\"}}, \"shapedefaults\": {\"line\": {\"color\": \"#2a3f5f\"}}, \"ternary\": {\"aaxis\": {\"gridcolor\": \"white\", \"linecolor\": \"white\", \"ticks\": \"\"}, \"baxis\": {\"gridcolor\": \"white\", \"linecolor\": \"white\", \"ticks\": \"\"}, \"bgcolor\": \"#E5ECF6\", \"caxis\": {\"gridcolor\": \"white\", \"linecolor\": \"white\", \"ticks\": \"\"}}, \"title\": {\"x\": 0.05}, \"xaxis\": {\"automargin\": true, \"gridcolor\": \"white\", \"linecolor\": \"white\", \"ticks\": \"\", \"title\": {\"standoff\": 15}, \"zerolinecolor\": \"white\", \"zerolinewidth\": 2}, \"yaxis\": {\"automargin\": true, \"gridcolor\": \"white\", \"linecolor\": \"white\", \"ticks\": \"\", \"title\": {\"standoff\": 15}, \"zerolinecolor\": \"white\", \"zerolinewidth\": 2}}}, \"title\": {\"text\": \"Aviation Innovaiton Eco System\"}},\n",
       "                        {\"responsive\": true}\n",
       "                    ).then(function(){\n",
       "                            \n",
       "var gd = document.getElementById('6411673c-5dbe-4148-80fd-3899e4027595');\n",
       "var x = new MutationObserver(function (mutations, observer) {{\n",
       "        var display = window.getComputedStyle(gd).display;\n",
       "        if (!display || display === 'none') {{\n",
       "            console.log([gd, 'removed!']);\n",
       "            Plotly.purge(gd);\n",
       "            observer.disconnect();\n",
       "        }}\n",
       "}});\n",
       "\n",
       "// Listen for the removal of the full notebook cells\n",
       "var notebookContainer = gd.closest('#notebook-container');\n",
       "if (notebookContainer) {{\n",
       "    x.observe(notebookContainer, {childList: true});\n",
       "}}\n",
       "\n",
       "// Listen for the clearing of the current output cell\n",
       "var outputEl = gd.closest('.output');\n",
       "if (outputEl) {{\n",
       "    x.observe(outputEl, {childList: true});\n",
       "}}\n",
       "\n",
       "                        })\n",
       "                };\n",
       "                });\n",
       "            </script>\n",
       "        </div>"
      ]
     },
     "metadata": {},
     "output_type": "display_data"
    }
   ],
   "source": [
    "## draw graph\n",
    "\n",
    "data = [trace1, trace2]\n",
    "\n",
    "\n",
    "fig = go.Figure(data=data, layout=layout)\n",
    "fig.show()"
   ]
  },
  {
   "cell_type": "code",
   "execution_count": 173,
   "metadata": {},
   "outputs": [],
   "source": [
    "import plotly.io as pio"
   ]
  },
  {
   "cell_type": "code",
   "execution_count": 174,
   "metadata": {},
   "outputs": [],
   "source": [
    "pio.write_html(fig, file=\"NONsmall-lables.html\",  include_plotlyjs=\"cdn\", auto_open=True)"
   ]
  },
  {
   "cell_type": "code",
   "execution_count": null,
   "metadata": {},
   "outputs": [],
   "source": []
  }
 ],
 "metadata": {
  "kernelspec": {
   "display_name": "Python 3",
   "language": "python",
   "name": "python3"
  },
  "language_info": {
   "codemirror_mode": {
    "name": "ipython",
    "version": 3
   },
   "file_extension": ".py",
   "mimetype": "text/x-python",
   "name": "python",
   "nbconvert_exporter": "python",
   "pygments_lexer": "ipython3",
   "version": "3.7.7"
  }
 },
 "nbformat": 4,
 "nbformat_minor": 4
}
